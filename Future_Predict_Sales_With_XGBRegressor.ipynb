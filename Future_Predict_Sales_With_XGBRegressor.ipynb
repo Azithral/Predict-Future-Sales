{
 "cells": [
  {
   "cell_type": "markdown",
   "metadata": {},
   "source": [
    "## Setting up google colab"
   ]
  },
  {
   "cell_type": "code",
   "execution_count": 5,
   "metadata": {
    "colab": {
     "base_uri": "https://localhost:8080/",
     "height": 36
    },
    "colab_type": "code",
    "id": "l5PJvnXqUWXQ",
    "outputId": "cc7f3223-79fd-4792-9614-4d2658f2360d"
   },
   "outputs": [
    {
     "name": "stdout",
     "output_type": "stream",
     "text": [
      "Drive already mounted at /content/drive; to attempt to forcibly remount, call drive.mount(\"/content/drive\", force_remount=True).\n"
     ]
    }
   ],
   "source": [
    "from google.colab import drive    #when not on google colab, comment out these lines\n",
    "drive.mount('/content/drive')     #when not on google colab, comment out these lines"
   ]
  },
  {
   "cell_type": "code",
   "execution_count": 0,
   "metadata": {
    "colab": {},
    "colab_type": "code",
    "id": "DYnyq4icUWSB"
   },
   "outputs": [],
   "source": [
    "import sys                                                                                     #when not on google colab, comment out these lines\n",
    "sys.path.append('/content/drive/My Drive/midas/competitive-data-science-predict-future-sales') "
   ]
  },
  {
   "cell_type": "markdown",
   "metadata": {},
   "source": [
    "## Importing Libraries"
   ]
  },
  {
   "cell_type": "code",
   "execution_count": 0,
   "metadata": {
    "colab": {},
    "colab_type": "code",
    "id": "I5ERd108Q98n"
   },
   "outputs": [],
   "source": [
    "import numpy as np\n",
    "import pandas as pd \n",
    "import os\n",
    "import random as rn\n",
    "import matplotlib.pyplot as plt\n",
    "from xgboost import XGBRegressor\n",
    "from itertools import product\n",
    "from sklearn.preprocessing import LabelEncoder"
   ]
  },
  {
   "cell_type": "markdown",
   "metadata": {},
   "source": [
    "## Loading Dataset"
   ]
  },
  {
   "cell_type": "code",
   "execution_count": 0,
   "metadata": {
    "colab": {},
    "colab_type": "code",
    "id": "IJ50o5AaQ99_"
   },
   "outputs": [],
   "source": [
    "train = pd.read_csv('/content/drive/My Drive/midas/competitive-data-science-predict-future-sales/sales_train_v2.csv')\n",
    "test = pd.read_csv('/content/drive/My Drive/midas/competitive-data-science-predict-future-sales/test.csv')\n",
    "items = pd.read_csv('/content/drive/My Drive/midas/competitive-data-science-predict-future-sales/items.csv')\n",
    "cats = pd.read_csv('/content/drive/My Drive/midas/competitive-data-science-predict-future-sales/item_categories.csv')\n",
    "shops = pd.read_csv('/content/drive/My Drive/midas/competitive-data-science-predict-future-sales/shops.csv')\n",
    "sample_submission = pd.read_csv('/content/drive/My Drive/midas/competitive-data-science-predict-future-sales/sample_submission.csv')"
   ]
  },
  {
   "cell_type": "markdown",
   "metadata": {},
   "source": [
    "Removing any outliers in item price and in item  number of products sold."
   ]
  },
  {
   "cell_type": "code",
   "execution_count": 0,
   "metadata": {
    "colab": {},
    "colab_type": "code",
    "id": "rYsdlB9fQ9-V"
   },
   "outputs": [],
   "source": [
    "train = train[train.item_price<100000]\n",
    "train = train[train.item_cnt_day<1001]"
   ]
  },
  {
   "cell_type": "markdown",
   "metadata": {},
   "source": [
    "Replacing negative values in the dataset by median."
   ]
  },
  {
   "cell_type": "code",
   "execution_count": 0,
   "metadata": {
    "colab": {},
    "colab_type": "code",
    "id": "yC3V69doQ9-i"
   },
   "outputs": [],
   "source": [
    "median = train[(train.shop_id==32)&(train.item_id==2973)&(train.date_block_num==4)&(train.item_price>0)].item_price.median()\n",
    "train.loc[train.item_price<0, 'item_price'] = median"
   ]
  },
  {
   "cell_type": "markdown",
   "metadata": {},
   "source": [
    "Several shops are duplicates of each other (according to their name). Fixing the train and test set."
   ]
  },
  {
   "cell_type": "code",
   "execution_count": 0,
   "metadata": {
    "colab": {},
    "colab_type": "code",
    "id": "USMd3M9TQ9-t"
   },
   "outputs": [],
   "source": [
    "# Якутск Орджоникидзе, 56\n",
    "train.loc[train.shop_id == 0, 'shop_id'] = 57\n",
    "test.loc[test.shop_id == 0, 'shop_id'] = 57\n",
    "# Якутск ТЦ \"Центральный\"\n",
    "train.loc[train.shop_id == 1, 'shop_id'] = 58\n",
    "test.loc[test.shop_id == 1, 'shop_id'] = 58\n",
    "# Жуковский ул. Чкалова 39м²\n",
    "train.loc[train.shop_id == 10, 'shop_id'] = 11\n",
    "test.loc[test.shop_id == 10, 'shop_id'] = 11"
   ]
  },
  {
   "cell_type": "markdown",
   "metadata": {},
   "source": [
    "Creating additional features based on the following observations\n",
    "* Each shop_name starts with the city name.\n",
    "* Each category contains type and subtype in its name."
   ]
  },
  {
   "cell_type": "code",
   "execution_count": 0,
   "metadata": {
    "colab": {},
    "colab_type": "code",
    "id": "Lvfy_DdKQ9-2"
   },
   "outputs": [],
   "source": [
    "shops.loc[shops.shop_name == 'Сергиев Посад ТЦ \"7Я\"', 'shop_name'] = 'СергиевПосад ТЦ \"7Я\"'\n",
    "shops['city'] = shops['shop_name'].str.split(' ').map(lambda x: x[0])\n",
    "shops.loc[shops.city == '!Якутск', 'city'] = 'Якутск'\n",
    "shops['city_code'] = LabelEncoder().fit_transform(shops['city'])\n",
    "shops = shops[['shop_id','city_code']]\n",
    "\n",
    "cats['split'] = cats['item_category_name'].str.split('-')\n",
    "cats['type'] = cats['split'].map(lambda x: x[0].strip())\n",
    "cats['type_code'] = LabelEncoder().fit_transform(cats['type'])\n",
    "# if subtype is nan then type\n",
    "cats['subtype'] = cats['split'].map(lambda x: x[1].strip() if len(x) > 1 else x[0].strip())\n",
    "cats['subtype_code'] = LabelEncoder().fit_transform(cats['subtype'])\n",
    "cats = cats[['item_category_id','type_code', 'subtype_code']]\n",
    "\n",
    "items.drop(['item_name'], axis=1, inplace=True)"
   ]
  },
  {
   "cell_type": "markdown",
   "metadata": {},
   "source": [
    "Rearranging the training dataset to get the proper format so as to make it similar to the test dataset."
   ]
  },
  {
   "cell_type": "code",
   "execution_count": 0,
   "metadata": {
    "colab": {},
    "colab_type": "code",
    "id": "85XuzQ_4Q9-8"
   },
   "outputs": [],
   "source": [
    "matrix = []\n",
    "cols = ['date_block_num','shop_id','item_id']\n",
    "for i in range(34):\n",
    "    sales = train[train.date_block_num==i]\n",
    "    matrix.append(np.array(list(product([i], sales.shop_id.unique(), sales.item_id.unique())), dtype='int16'))\n",
    "    \n",
    "matrix = pd.DataFrame(np.vstack(matrix), columns=cols)\n",
    "matrix['date_block_num'] = matrix['date_block_num']\n",
    "matrix['shop_id'] = matrix['shop_id']\n",
    "matrix['item_id'] = matrix['item_id']\n",
    "matrix.sort_values(cols,inplace=True)"
   ]
  },
  {
   "cell_type": "code",
   "execution_count": 14,
   "metadata": {
    "colab": {
     "base_uri": "https://localhost:8080/",
     "height": 206
    },
    "colab_type": "code",
    "id": "rmeavVBjQ9_D",
    "outputId": "667d01a4-1d06-4b43-8aa3-60e466fd835f"
   },
   "outputs": [
    {
     "data": {
      "text/html": [
       "<div>\n",
       "<style scoped>\n",
       "    .dataframe tbody tr th:only-of-type {\n",
       "        vertical-align: middle;\n",
       "    }\n",
       "\n",
       "    .dataframe tbody tr th {\n",
       "        vertical-align: top;\n",
       "    }\n",
       "\n",
       "    .dataframe thead th {\n",
       "        text-align: right;\n",
       "    }\n",
       "</style>\n",
       "<table border=\"1\" class=\"dataframe\">\n",
       "  <thead>\n",
       "    <tr style=\"text-align: right;\">\n",
       "      <th></th>\n",
       "      <th>date_block_num</th>\n",
       "      <th>shop_id</th>\n",
       "      <th>item_id</th>\n",
       "    </tr>\n",
       "  </thead>\n",
       "  <tbody>\n",
       "    <tr>\n",
       "      <th>114910</th>\n",
       "      <td>0</td>\n",
       "      <td>2</td>\n",
       "      <td>19</td>\n",
       "    </tr>\n",
       "    <tr>\n",
       "      <th>117150</th>\n",
       "      <td>0</td>\n",
       "      <td>2</td>\n",
       "      <td>27</td>\n",
       "    </tr>\n",
       "    <tr>\n",
       "      <th>120623</th>\n",
       "      <td>0</td>\n",
       "      <td>2</td>\n",
       "      <td>28</td>\n",
       "    </tr>\n",
       "    <tr>\n",
       "      <th>118316</th>\n",
       "      <td>0</td>\n",
       "      <td>2</td>\n",
       "      <td>29</td>\n",
       "    </tr>\n",
       "    <tr>\n",
       "      <th>114602</th>\n",
       "      <td>0</td>\n",
       "      <td>2</td>\n",
       "      <td>32</td>\n",
       "    </tr>\n",
       "  </tbody>\n",
       "</table>\n",
       "</div>"
      ],
      "text/plain": [
       "        date_block_num  shop_id  item_id\n",
       "114910               0        2       19\n",
       "117150               0        2       27\n",
       "120623               0        2       28\n",
       "118316               0        2       29\n",
       "114602               0        2       32"
      ]
     },
     "execution_count": 14,
     "metadata": {
      "tags": []
     },
     "output_type": "execute_result"
    }
   ],
   "source": [
    "matrix.head()"
   ]
  },
  {
   "cell_type": "code",
   "execution_count": 0,
   "metadata": {
    "colab": {},
    "colab_type": "code",
    "id": "tqkN0hZZQ9_N"
   },
   "outputs": [],
   "source": [
    "train['revenue'] = train['item_price'] *  train['item_cnt_day']"
   ]
  },
  {
   "cell_type": "markdown",
   "metadata": {},
   "source": [
    "Aggregate train set by shop/item pairs to calculate target aggreagates, then clip(0,20) target value. This way train target will be similar to the test predictions."
   ]
  },
  {
   "cell_type": "code",
   "execution_count": 0,
   "metadata": {
    "colab": {},
    "colab_type": "code",
    "id": "SM9CGXJOQ9_T"
   },
   "outputs": [],
   "source": [
    "group = train.groupby(['date_block_num','shop_id','item_id']).agg({'item_cnt_day': ['sum']})\n",
    "group.columns = ['item_cnt_month']\n",
    "group.reset_index(inplace=True)"
   ]
  },
  {
   "cell_type": "code",
   "execution_count": 0,
   "metadata": {
    "colab": {},
    "colab_type": "code",
    "id": "f--VepDnQ9_X"
   },
   "outputs": [],
   "source": [
    "matrix = pd.merge(matrix, group, on=cols, how='left')"
   ]
  },
  {
   "cell_type": "code",
   "execution_count": 18,
   "metadata": {
    "colab": {
     "base_uri": "https://localhost:8080/",
     "height": 206
    },
    "colab_type": "code",
    "id": "jJQKmINSQ9_b",
    "outputId": "a31e67df-7bd5-495e-e589-e79310727ac3"
   },
   "outputs": [
    {
     "data": {
      "text/html": [
       "<div>\n",
       "<style scoped>\n",
       "    .dataframe tbody tr th:only-of-type {\n",
       "        vertical-align: middle;\n",
       "    }\n",
       "\n",
       "    .dataframe tbody tr th {\n",
       "        vertical-align: top;\n",
       "    }\n",
       "\n",
       "    .dataframe thead th {\n",
       "        text-align: right;\n",
       "    }\n",
       "</style>\n",
       "<table border=\"1\" class=\"dataframe\">\n",
       "  <thead>\n",
       "    <tr style=\"text-align: right;\">\n",
       "      <th></th>\n",
       "      <th>date_block_num</th>\n",
       "      <th>shop_id</th>\n",
       "      <th>item_id</th>\n",
       "      <th>item_cnt_month</th>\n",
       "    </tr>\n",
       "  </thead>\n",
       "  <tbody>\n",
       "    <tr>\n",
       "      <th>0</th>\n",
       "      <td>0</td>\n",
       "      <td>2</td>\n",
       "      <td>19</td>\n",
       "      <td>NaN</td>\n",
       "    </tr>\n",
       "    <tr>\n",
       "      <th>1</th>\n",
       "      <td>0</td>\n",
       "      <td>2</td>\n",
       "      <td>27</td>\n",
       "      <td>1.0</td>\n",
       "    </tr>\n",
       "    <tr>\n",
       "      <th>2</th>\n",
       "      <td>0</td>\n",
       "      <td>2</td>\n",
       "      <td>28</td>\n",
       "      <td>NaN</td>\n",
       "    </tr>\n",
       "    <tr>\n",
       "      <th>3</th>\n",
       "      <td>0</td>\n",
       "      <td>2</td>\n",
       "      <td>29</td>\n",
       "      <td>NaN</td>\n",
       "    </tr>\n",
       "    <tr>\n",
       "      <th>4</th>\n",
       "      <td>0</td>\n",
       "      <td>2</td>\n",
       "      <td>32</td>\n",
       "      <td>NaN</td>\n",
       "    </tr>\n",
       "  </tbody>\n",
       "</table>\n",
       "</div>"
      ],
      "text/plain": [
       "   date_block_num  shop_id  item_id  item_cnt_month\n",
       "0               0        2       19             NaN\n",
       "1               0        2       27             1.0\n",
       "2               0        2       28             NaN\n",
       "3               0        2       29             NaN\n",
       "4               0        2       32             NaN"
      ]
     },
     "execution_count": 18,
     "metadata": {
      "tags": []
     },
     "output_type": "execute_result"
    }
   ],
   "source": [
    "matrix.head()"
   ]
  },
  {
   "cell_type": "code",
   "execution_count": 0,
   "metadata": {
    "colab": {},
    "colab_type": "code",
    "id": "QtJx1FfZQ9_h"
   },
   "outputs": [],
   "source": [
    "matrix['item_cnt_month'] = (matrix['item_cnt_month']\n",
    "                                .fillna(0)\n",
    "                                .clip(0,20) # NB clip target here\n",
    "                                )"
   ]
  },
  {
   "cell_type": "code",
   "execution_count": 20,
   "metadata": {
    "colab": {
     "base_uri": "https://localhost:8080/",
     "height": 206
    },
    "colab_type": "code",
    "id": "r2ZEV4GiQ9_o",
    "outputId": "c04fc61f-ba05-404b-abf6-e028a953e4ee"
   },
   "outputs": [
    {
     "data": {
      "text/html": [
       "<div>\n",
       "<style scoped>\n",
       "    .dataframe tbody tr th:only-of-type {\n",
       "        vertical-align: middle;\n",
       "    }\n",
       "\n",
       "    .dataframe tbody tr th {\n",
       "        vertical-align: top;\n",
       "    }\n",
       "\n",
       "    .dataframe thead th {\n",
       "        text-align: right;\n",
       "    }\n",
       "</style>\n",
       "<table border=\"1\" class=\"dataframe\">\n",
       "  <thead>\n",
       "    <tr style=\"text-align: right;\">\n",
       "      <th></th>\n",
       "      <th>date_block_num</th>\n",
       "      <th>shop_id</th>\n",
       "      <th>item_id</th>\n",
       "      <th>item_cnt_month</th>\n",
       "    </tr>\n",
       "  </thead>\n",
       "  <tbody>\n",
       "    <tr>\n",
       "      <th>0</th>\n",
       "      <td>0</td>\n",
       "      <td>2</td>\n",
       "      <td>19</td>\n",
       "      <td>0.0</td>\n",
       "    </tr>\n",
       "    <tr>\n",
       "      <th>1</th>\n",
       "      <td>0</td>\n",
       "      <td>2</td>\n",
       "      <td>27</td>\n",
       "      <td>1.0</td>\n",
       "    </tr>\n",
       "    <tr>\n",
       "      <th>2</th>\n",
       "      <td>0</td>\n",
       "      <td>2</td>\n",
       "      <td>28</td>\n",
       "      <td>0.0</td>\n",
       "    </tr>\n",
       "    <tr>\n",
       "      <th>3</th>\n",
       "      <td>0</td>\n",
       "      <td>2</td>\n",
       "      <td>29</td>\n",
       "      <td>0.0</td>\n",
       "    </tr>\n",
       "    <tr>\n",
       "      <th>4</th>\n",
       "      <td>0</td>\n",
       "      <td>2</td>\n",
       "      <td>32</td>\n",
       "      <td>0.0</td>\n",
       "    </tr>\n",
       "  </tbody>\n",
       "</table>\n",
       "</div>"
      ],
      "text/plain": [
       "   date_block_num  shop_id  item_id  item_cnt_month\n",
       "0               0        2       19             0.0\n",
       "1               0        2       27             1.0\n",
       "2               0        2       28             0.0\n",
       "3               0        2       29             0.0\n",
       "4               0        2       32             0.0"
      ]
     },
     "execution_count": 20,
     "metadata": {
      "tags": []
     },
     "output_type": "execute_result"
    }
   ],
   "source": [
    "matrix.head()"
   ]
  },
  {
   "cell_type": "markdown",
   "metadata": {},
   "source": [
    "Making the test dataset as an extension of the training dataset for ease of use. Here the test dataset is considered as the 34th month in the time series data."
   ]
  },
  {
   "cell_type": "code",
   "execution_count": 0,
   "metadata": {
    "colab": {},
    "colab_type": "code",
    "id": "qLYQe3HuQ9_v"
   },
   "outputs": [],
   "source": [
    "test['date_block_num'] = 34"
   ]
  },
  {
   "cell_type": "code",
   "execution_count": 0,
   "metadata": {
    "colab": {},
    "colab_type": "code",
    "id": "ZNr3CIStQ9_0"
   },
   "outputs": [],
   "source": [
    "matrix = pd.concat([matrix, test], ignore_index=True, sort=False, keys=cols)"
   ]
  },
  {
   "cell_type": "code",
   "execution_count": 23,
   "metadata": {
    "colab": {
     "base_uri": "https://localhost:8080/",
     "height": 424
    },
    "colab_type": "code",
    "id": "yh1_V0D8Q9_5",
    "outputId": "5f97d88a-45c9-49d2-e875-2198cf1145c3"
   },
   "outputs": [
    {
     "data": {
      "text/html": [
       "<div>\n",
       "<style scoped>\n",
       "    .dataframe tbody tr th:only-of-type {\n",
       "        vertical-align: middle;\n",
       "    }\n",
       "\n",
       "    .dataframe tbody tr th {\n",
       "        vertical-align: top;\n",
       "    }\n",
       "\n",
       "    .dataframe thead th {\n",
       "        text-align: right;\n",
       "    }\n",
       "</style>\n",
       "<table border=\"1\" class=\"dataframe\">\n",
       "  <thead>\n",
       "    <tr style=\"text-align: right;\">\n",
       "      <th></th>\n",
       "      <th>date_block_num</th>\n",
       "      <th>shop_id</th>\n",
       "      <th>item_id</th>\n",
       "      <th>item_cnt_month</th>\n",
       "      <th>ID</th>\n",
       "    </tr>\n",
       "  </thead>\n",
       "  <tbody>\n",
       "    <tr>\n",
       "      <th>0</th>\n",
       "      <td>0</td>\n",
       "      <td>2</td>\n",
       "      <td>19</td>\n",
       "      <td>0.0</td>\n",
       "      <td>NaN</td>\n",
       "    </tr>\n",
       "    <tr>\n",
       "      <th>1</th>\n",
       "      <td>0</td>\n",
       "      <td>2</td>\n",
       "      <td>27</td>\n",
       "      <td>1.0</td>\n",
       "      <td>NaN</td>\n",
       "    </tr>\n",
       "    <tr>\n",
       "      <th>2</th>\n",
       "      <td>0</td>\n",
       "      <td>2</td>\n",
       "      <td>28</td>\n",
       "      <td>0.0</td>\n",
       "      <td>NaN</td>\n",
       "    </tr>\n",
       "    <tr>\n",
       "      <th>3</th>\n",
       "      <td>0</td>\n",
       "      <td>2</td>\n",
       "      <td>29</td>\n",
       "      <td>0.0</td>\n",
       "      <td>NaN</td>\n",
       "    </tr>\n",
       "    <tr>\n",
       "      <th>4</th>\n",
       "      <td>0</td>\n",
       "      <td>2</td>\n",
       "      <td>32</td>\n",
       "      <td>0.0</td>\n",
       "      <td>NaN</td>\n",
       "    </tr>\n",
       "    <tr>\n",
       "      <th>...</th>\n",
       "      <td>...</td>\n",
       "      <td>...</td>\n",
       "      <td>...</td>\n",
       "      <td>...</td>\n",
       "      <td>...</td>\n",
       "    </tr>\n",
       "    <tr>\n",
       "      <th>11127999</th>\n",
       "      <td>34</td>\n",
       "      <td>45</td>\n",
       "      <td>18454</td>\n",
       "      <td>NaN</td>\n",
       "      <td>214195.0</td>\n",
       "    </tr>\n",
       "    <tr>\n",
       "      <th>11128000</th>\n",
       "      <td>34</td>\n",
       "      <td>45</td>\n",
       "      <td>16188</td>\n",
       "      <td>NaN</td>\n",
       "      <td>214196.0</td>\n",
       "    </tr>\n",
       "    <tr>\n",
       "      <th>11128001</th>\n",
       "      <td>34</td>\n",
       "      <td>45</td>\n",
       "      <td>15757</td>\n",
       "      <td>NaN</td>\n",
       "      <td>214197.0</td>\n",
       "    </tr>\n",
       "    <tr>\n",
       "      <th>11128002</th>\n",
       "      <td>34</td>\n",
       "      <td>45</td>\n",
       "      <td>19648</td>\n",
       "      <td>NaN</td>\n",
       "      <td>214198.0</td>\n",
       "    </tr>\n",
       "    <tr>\n",
       "      <th>11128003</th>\n",
       "      <td>34</td>\n",
       "      <td>45</td>\n",
       "      <td>969</td>\n",
       "      <td>NaN</td>\n",
       "      <td>214199.0</td>\n",
       "    </tr>\n",
       "  </tbody>\n",
       "</table>\n",
       "<p>11128004 rows × 5 columns</p>\n",
       "</div>"
      ],
      "text/plain": [
       "          date_block_num  shop_id  item_id  item_cnt_month        ID\n",
       "0                      0        2       19             0.0       NaN\n",
       "1                      0        2       27             1.0       NaN\n",
       "2                      0        2       28             0.0       NaN\n",
       "3                      0        2       29             0.0       NaN\n",
       "4                      0        2       32             0.0       NaN\n",
       "...                  ...      ...      ...             ...       ...\n",
       "11127999              34       45    18454             NaN  214195.0\n",
       "11128000              34       45    16188             NaN  214196.0\n",
       "11128001              34       45    15757             NaN  214197.0\n",
       "11128002              34       45    19648             NaN  214198.0\n",
       "11128003              34       45      969             NaN  214199.0\n",
       "\n",
       "[11128004 rows x 5 columns]"
      ]
     },
     "execution_count": 23,
     "metadata": {
      "tags": []
     },
     "output_type": "execute_result"
    }
   ],
   "source": [
    "matrix"
   ]
  },
  {
   "cell_type": "code",
   "execution_count": 0,
   "metadata": {
    "colab": {},
    "colab_type": "code",
    "id": "7MvMZj-NQ9_9"
   },
   "outputs": [],
   "source": [
    "matrix.fillna(0, inplace=True)"
   ]
  },
  {
   "cell_type": "code",
   "execution_count": 25,
   "metadata": {
    "colab": {
     "base_uri": "https://localhost:8080/",
     "height": 424
    },
    "colab_type": "code",
    "id": "NAsjvLR9Q-AH",
    "outputId": "1ec3ad51-caff-4612-e3d8-aecb5a1a237b"
   },
   "outputs": [
    {
     "data": {
      "text/html": [
       "<div>\n",
       "<style scoped>\n",
       "    .dataframe tbody tr th:only-of-type {\n",
       "        vertical-align: middle;\n",
       "    }\n",
       "\n",
       "    .dataframe tbody tr th {\n",
       "        vertical-align: top;\n",
       "    }\n",
       "\n",
       "    .dataframe thead th {\n",
       "        text-align: right;\n",
       "    }\n",
       "</style>\n",
       "<table border=\"1\" class=\"dataframe\">\n",
       "  <thead>\n",
       "    <tr style=\"text-align: right;\">\n",
       "      <th></th>\n",
       "      <th>date_block_num</th>\n",
       "      <th>shop_id</th>\n",
       "      <th>item_id</th>\n",
       "      <th>item_cnt_month</th>\n",
       "      <th>ID</th>\n",
       "    </tr>\n",
       "  </thead>\n",
       "  <tbody>\n",
       "    <tr>\n",
       "      <th>0</th>\n",
       "      <td>0</td>\n",
       "      <td>2</td>\n",
       "      <td>19</td>\n",
       "      <td>0.0</td>\n",
       "      <td>0.0</td>\n",
       "    </tr>\n",
       "    <tr>\n",
       "      <th>1</th>\n",
       "      <td>0</td>\n",
       "      <td>2</td>\n",
       "      <td>27</td>\n",
       "      <td>1.0</td>\n",
       "      <td>0.0</td>\n",
       "    </tr>\n",
       "    <tr>\n",
       "      <th>2</th>\n",
       "      <td>0</td>\n",
       "      <td>2</td>\n",
       "      <td>28</td>\n",
       "      <td>0.0</td>\n",
       "      <td>0.0</td>\n",
       "    </tr>\n",
       "    <tr>\n",
       "      <th>3</th>\n",
       "      <td>0</td>\n",
       "      <td>2</td>\n",
       "      <td>29</td>\n",
       "      <td>0.0</td>\n",
       "      <td>0.0</td>\n",
       "    </tr>\n",
       "    <tr>\n",
       "      <th>4</th>\n",
       "      <td>0</td>\n",
       "      <td>2</td>\n",
       "      <td>32</td>\n",
       "      <td>0.0</td>\n",
       "      <td>0.0</td>\n",
       "    </tr>\n",
       "    <tr>\n",
       "      <th>...</th>\n",
       "      <td>...</td>\n",
       "      <td>...</td>\n",
       "      <td>...</td>\n",
       "      <td>...</td>\n",
       "      <td>...</td>\n",
       "    </tr>\n",
       "    <tr>\n",
       "      <th>11127999</th>\n",
       "      <td>34</td>\n",
       "      <td>45</td>\n",
       "      <td>18454</td>\n",
       "      <td>0.0</td>\n",
       "      <td>214195.0</td>\n",
       "    </tr>\n",
       "    <tr>\n",
       "      <th>11128000</th>\n",
       "      <td>34</td>\n",
       "      <td>45</td>\n",
       "      <td>16188</td>\n",
       "      <td>0.0</td>\n",
       "      <td>214196.0</td>\n",
       "    </tr>\n",
       "    <tr>\n",
       "      <th>11128001</th>\n",
       "      <td>34</td>\n",
       "      <td>45</td>\n",
       "      <td>15757</td>\n",
       "      <td>0.0</td>\n",
       "      <td>214197.0</td>\n",
       "    </tr>\n",
       "    <tr>\n",
       "      <th>11128002</th>\n",
       "      <td>34</td>\n",
       "      <td>45</td>\n",
       "      <td>19648</td>\n",
       "      <td>0.0</td>\n",
       "      <td>214198.0</td>\n",
       "    </tr>\n",
       "    <tr>\n",
       "      <th>11128003</th>\n",
       "      <td>34</td>\n",
       "      <td>45</td>\n",
       "      <td>969</td>\n",
       "      <td>0.0</td>\n",
       "      <td>214199.0</td>\n",
       "    </tr>\n",
       "  </tbody>\n",
       "</table>\n",
       "<p>11128004 rows × 5 columns</p>\n",
       "</div>"
      ],
      "text/plain": [
       "          date_block_num  shop_id  item_id  item_cnt_month        ID\n",
       "0                      0        2       19             0.0       0.0\n",
       "1                      0        2       27             1.0       0.0\n",
       "2                      0        2       28             0.0       0.0\n",
       "3                      0        2       29             0.0       0.0\n",
       "4                      0        2       32             0.0       0.0\n",
       "...                  ...      ...      ...             ...       ...\n",
       "11127999              34       45    18454             0.0  214195.0\n",
       "11128000              34       45    16188             0.0  214196.0\n",
       "11128001              34       45    15757             0.0  214197.0\n",
       "11128002              34       45    19648             0.0  214198.0\n",
       "11128003              34       45      969             0.0  214199.0\n",
       "\n",
       "[11128004 rows x 5 columns]"
      ]
     },
     "execution_count": 25,
     "metadata": {
      "tags": []
     },
     "output_type": "execute_result"
    }
   ],
   "source": [
    "matrix"
   ]
  },
  {
   "cell_type": "markdown",
   "metadata": {},
   "source": [
    "Adding city_code, item_category_id, type_code and subtype_code as additional features."
   ]
  },
  {
   "cell_type": "code",
   "execution_count": 0,
   "metadata": {
    "colab": {},
    "colab_type": "code",
    "id": "Hz7AOjVqQ-AX"
   },
   "outputs": [],
   "source": [
    "matrix = pd.merge(matrix, shops, on=['shop_id'], how='left')"
   ]
  },
  {
   "cell_type": "code",
   "execution_count": 0,
   "metadata": {
    "colab": {},
    "colab_type": "code",
    "id": "tREpb34QQ-Ak"
   },
   "outputs": [],
   "source": [
    "matrix = pd.merge(matrix, items, on=['item_id'], how='left')"
   ]
  },
  {
   "cell_type": "code",
   "execution_count": 0,
   "metadata": {
    "colab": {},
    "colab_type": "code",
    "id": "2Tb2OehIQ-Ap"
   },
   "outputs": [],
   "source": [
    "matrix = pd.merge(matrix, cats, on=['item_category_id'], how='left')"
   ]
  },
  {
   "cell_type": "code",
   "execution_count": 30,
   "metadata": {
    "colab": {
     "base_uri": "https://localhost:8080/",
     "height": 424
    },
    "colab_type": "code",
    "id": "fqsdNHkvQ-Aw",
    "outputId": "3c4622d1-ff1c-46f1-8c34-6c0594554b83"
   },
   "outputs": [
    {
     "data": {
      "text/html": [
       "<div>\n",
       "<style scoped>\n",
       "    .dataframe tbody tr th:only-of-type {\n",
       "        vertical-align: middle;\n",
       "    }\n",
       "\n",
       "    .dataframe tbody tr th {\n",
       "        vertical-align: top;\n",
       "    }\n",
       "\n",
       "    .dataframe thead th {\n",
       "        text-align: right;\n",
       "    }\n",
       "</style>\n",
       "<table border=\"1\" class=\"dataframe\">\n",
       "  <thead>\n",
       "    <tr style=\"text-align: right;\">\n",
       "      <th></th>\n",
       "      <th>date_block_num</th>\n",
       "      <th>shop_id</th>\n",
       "      <th>item_id</th>\n",
       "      <th>item_cnt_month</th>\n",
       "      <th>ID</th>\n",
       "      <th>city_code</th>\n",
       "      <th>item_category_id</th>\n",
       "      <th>type_code</th>\n",
       "      <th>subtype_code</th>\n",
       "    </tr>\n",
       "  </thead>\n",
       "  <tbody>\n",
       "    <tr>\n",
       "      <th>0</th>\n",
       "      <td>0</td>\n",
       "      <td>2</td>\n",
       "      <td>19</td>\n",
       "      <td>0.0</td>\n",
       "      <td>0.0</td>\n",
       "      <td>0</td>\n",
       "      <td>40</td>\n",
       "      <td>11</td>\n",
       "      <td>4</td>\n",
       "    </tr>\n",
       "    <tr>\n",
       "      <th>1</th>\n",
       "      <td>0</td>\n",
       "      <td>2</td>\n",
       "      <td>27</td>\n",
       "      <td>1.0</td>\n",
       "      <td>0.0</td>\n",
       "      <td>0</td>\n",
       "      <td>19</td>\n",
       "      <td>5</td>\n",
       "      <td>10</td>\n",
       "    </tr>\n",
       "    <tr>\n",
       "      <th>2</th>\n",
       "      <td>0</td>\n",
       "      <td>2</td>\n",
       "      <td>28</td>\n",
       "      <td>0.0</td>\n",
       "      <td>0.0</td>\n",
       "      <td>0</td>\n",
       "      <td>30</td>\n",
       "      <td>8</td>\n",
       "      <td>55</td>\n",
       "    </tr>\n",
       "    <tr>\n",
       "      <th>3</th>\n",
       "      <td>0</td>\n",
       "      <td>2</td>\n",
       "      <td>29</td>\n",
       "      <td>0.0</td>\n",
       "      <td>0.0</td>\n",
       "      <td>0</td>\n",
       "      <td>23</td>\n",
       "      <td>5</td>\n",
       "      <td>16</td>\n",
       "    </tr>\n",
       "    <tr>\n",
       "      <th>4</th>\n",
       "      <td>0</td>\n",
       "      <td>2</td>\n",
       "      <td>32</td>\n",
       "      <td>0.0</td>\n",
       "      <td>0.0</td>\n",
       "      <td>0</td>\n",
       "      <td>40</td>\n",
       "      <td>11</td>\n",
       "      <td>4</td>\n",
       "    </tr>\n",
       "    <tr>\n",
       "      <th>...</th>\n",
       "      <td>...</td>\n",
       "      <td>...</td>\n",
       "      <td>...</td>\n",
       "      <td>...</td>\n",
       "      <td>...</td>\n",
       "      <td>...</td>\n",
       "      <td>...</td>\n",
       "      <td>...</td>\n",
       "      <td>...</td>\n",
       "    </tr>\n",
       "    <tr>\n",
       "      <th>11127999</th>\n",
       "      <td>34</td>\n",
       "      <td>45</td>\n",
       "      <td>18454</td>\n",
       "      <td>0.0</td>\n",
       "      <td>214195.0</td>\n",
       "      <td>20</td>\n",
       "      <td>55</td>\n",
       "      <td>13</td>\n",
       "      <td>2</td>\n",
       "    </tr>\n",
       "    <tr>\n",
       "      <th>11128000</th>\n",
       "      <td>34</td>\n",
       "      <td>45</td>\n",
       "      <td>16188</td>\n",
       "      <td>0.0</td>\n",
       "      <td>214196.0</td>\n",
       "      <td>20</td>\n",
       "      <td>64</td>\n",
       "      <td>14</td>\n",
       "      <td>42</td>\n",
       "    </tr>\n",
       "    <tr>\n",
       "      <th>11128001</th>\n",
       "      <td>34</td>\n",
       "      <td>45</td>\n",
       "      <td>15757</td>\n",
       "      <td>0.0</td>\n",
       "      <td>214197.0</td>\n",
       "      <td>20</td>\n",
       "      <td>55</td>\n",
       "      <td>13</td>\n",
       "      <td>2</td>\n",
       "    </tr>\n",
       "    <tr>\n",
       "      <th>11128002</th>\n",
       "      <td>34</td>\n",
       "      <td>45</td>\n",
       "      <td>19648</td>\n",
       "      <td>0.0</td>\n",
       "      <td>214198.0</td>\n",
       "      <td>20</td>\n",
       "      <td>40</td>\n",
       "      <td>11</td>\n",
       "      <td>4</td>\n",
       "    </tr>\n",
       "    <tr>\n",
       "      <th>11128003</th>\n",
       "      <td>34</td>\n",
       "      <td>45</td>\n",
       "      <td>969</td>\n",
       "      <td>0.0</td>\n",
       "      <td>214199.0</td>\n",
       "      <td>20</td>\n",
       "      <td>37</td>\n",
       "      <td>11</td>\n",
       "      <td>1</td>\n",
       "    </tr>\n",
       "  </tbody>\n",
       "</table>\n",
       "<p>11128004 rows × 9 columns</p>\n",
       "</div>"
      ],
      "text/plain": [
       "          date_block_num  shop_id  ...  type_code  subtype_code\n",
       "0                      0        2  ...         11             4\n",
       "1                      0        2  ...          5            10\n",
       "2                      0        2  ...          8            55\n",
       "3                      0        2  ...          5            16\n",
       "4                      0        2  ...         11             4\n",
       "...                  ...      ...  ...        ...           ...\n",
       "11127999              34       45  ...         13             2\n",
       "11128000              34       45  ...         14            42\n",
       "11128001              34       45  ...         13             2\n",
       "11128002              34       45  ...         11             4\n",
       "11128003              34       45  ...         11             1\n",
       "\n",
       "[11128004 rows x 9 columns]"
      ]
     },
     "execution_count": 30,
     "metadata": {
      "tags": []
     },
     "output_type": "execute_result"
    }
   ],
   "source": [
    "matrix"
   ]
  },
  {
   "cell_type": "markdown",
   "metadata": {},
   "source": [
    "Instead of simply using date_block_num , it is important to identify the month for better understanding of the sales."
   ]
  },
  {
   "cell_type": "code",
   "execution_count": 0,
   "metadata": {
    "colab": {},
    "colab_type": "code",
    "id": "yItiDOt-Q-A1"
   },
   "outputs": [],
   "source": [
    "matrix['month'] = matrix['date_block_num'] % 12"
   ]
  },
  {
   "cell_type": "code",
   "execution_count": 32,
   "metadata": {
    "colab": {
     "base_uri": "https://localhost:8080/",
     "height": 206
    },
    "colab_type": "code",
    "id": "BFlFpu7dQ-A_",
    "outputId": "5aab6ab0-e605-4682-e377-bf96ded55c91"
   },
   "outputs": [
    {
     "data": {
      "text/html": [
       "<div>\n",
       "<style scoped>\n",
       "    .dataframe tbody tr th:only-of-type {\n",
       "        vertical-align: middle;\n",
       "    }\n",
       "\n",
       "    .dataframe tbody tr th {\n",
       "        vertical-align: top;\n",
       "    }\n",
       "\n",
       "    .dataframe thead th {\n",
       "        text-align: right;\n",
       "    }\n",
       "</style>\n",
       "<table border=\"1\" class=\"dataframe\">\n",
       "  <thead>\n",
       "    <tr style=\"text-align: right;\">\n",
       "      <th></th>\n",
       "      <th>date_block_num</th>\n",
       "      <th>shop_id</th>\n",
       "      <th>item_id</th>\n",
       "      <th>item_cnt_month</th>\n",
       "      <th>ID</th>\n",
       "      <th>city_code</th>\n",
       "      <th>item_category_id</th>\n",
       "      <th>type_code</th>\n",
       "      <th>subtype_code</th>\n",
       "      <th>month</th>\n",
       "    </tr>\n",
       "  </thead>\n",
       "  <tbody>\n",
       "    <tr>\n",
       "      <th>11127999</th>\n",
       "      <td>34</td>\n",
       "      <td>45</td>\n",
       "      <td>18454</td>\n",
       "      <td>0.0</td>\n",
       "      <td>214195.0</td>\n",
       "      <td>20</td>\n",
       "      <td>55</td>\n",
       "      <td>13</td>\n",
       "      <td>2</td>\n",
       "      <td>10</td>\n",
       "    </tr>\n",
       "    <tr>\n",
       "      <th>11128000</th>\n",
       "      <td>34</td>\n",
       "      <td>45</td>\n",
       "      <td>16188</td>\n",
       "      <td>0.0</td>\n",
       "      <td>214196.0</td>\n",
       "      <td>20</td>\n",
       "      <td>64</td>\n",
       "      <td>14</td>\n",
       "      <td>42</td>\n",
       "      <td>10</td>\n",
       "    </tr>\n",
       "    <tr>\n",
       "      <th>11128001</th>\n",
       "      <td>34</td>\n",
       "      <td>45</td>\n",
       "      <td>15757</td>\n",
       "      <td>0.0</td>\n",
       "      <td>214197.0</td>\n",
       "      <td>20</td>\n",
       "      <td>55</td>\n",
       "      <td>13</td>\n",
       "      <td>2</td>\n",
       "      <td>10</td>\n",
       "    </tr>\n",
       "    <tr>\n",
       "      <th>11128002</th>\n",
       "      <td>34</td>\n",
       "      <td>45</td>\n",
       "      <td>19648</td>\n",
       "      <td>0.0</td>\n",
       "      <td>214198.0</td>\n",
       "      <td>20</td>\n",
       "      <td>40</td>\n",
       "      <td>11</td>\n",
       "      <td>4</td>\n",
       "      <td>10</td>\n",
       "    </tr>\n",
       "    <tr>\n",
       "      <th>11128003</th>\n",
       "      <td>34</td>\n",
       "      <td>45</td>\n",
       "      <td>969</td>\n",
       "      <td>0.0</td>\n",
       "      <td>214199.0</td>\n",
       "      <td>20</td>\n",
       "      <td>37</td>\n",
       "      <td>11</td>\n",
       "      <td>1</td>\n",
       "      <td>10</td>\n",
       "    </tr>\n",
       "  </tbody>\n",
       "</table>\n",
       "</div>"
      ],
      "text/plain": [
       "          date_block_num  shop_id  item_id  ...  type_code  subtype_code  month\n",
       "11127999              34       45    18454  ...         13             2     10\n",
       "11128000              34       45    16188  ...         14            42     10\n",
       "11128001              34       45    15757  ...         13             2     10\n",
       "11128002              34       45    19648  ...         11             4     10\n",
       "11128003              34       45      969  ...         11             1     10\n",
       "\n",
       "[5 rows x 10 columns]"
      ]
     },
     "execution_count": 32,
     "metadata": {
      "tags": []
     },
     "output_type": "execute_result"
    }
   ],
   "source": [
    "matrix.tail()"
   ]
  },
  {
   "cell_type": "markdown",
   "metadata": {},
   "source": [
    "Observing the max number of days in the respective months."
   ]
  },
  {
   "cell_type": "code",
   "execution_count": 0,
   "metadata": {
    "colab": {},
    "colab_type": "code",
    "id": "dqKdLqswQ-BI"
   },
   "outputs": [],
   "source": [
    "days = pd.Series([31,28,31,30,31,30,31,31,30,31,30,31])\n",
    "matrix['days'] = matrix['month'].map(days)"
   ]
  },
  {
   "cell_type": "code",
   "execution_count": 34,
   "metadata": {
    "colab": {
     "base_uri": "https://localhost:8080/",
     "height": 206
    },
    "colab_type": "code",
    "id": "_jYb8jIqQ-BK",
    "outputId": "9537c1b8-fea7-4bb1-c4b6-9d9ad181ce03"
   },
   "outputs": [
    {
     "data": {
      "text/html": [
       "<div>\n",
       "<style scoped>\n",
       "    .dataframe tbody tr th:only-of-type {\n",
       "        vertical-align: middle;\n",
       "    }\n",
       "\n",
       "    .dataframe tbody tr th {\n",
       "        vertical-align: top;\n",
       "    }\n",
       "\n",
       "    .dataframe thead th {\n",
       "        text-align: right;\n",
       "    }\n",
       "</style>\n",
       "<table border=\"1\" class=\"dataframe\">\n",
       "  <thead>\n",
       "    <tr style=\"text-align: right;\">\n",
       "      <th></th>\n",
       "      <th>date_block_num</th>\n",
       "      <th>shop_id</th>\n",
       "      <th>item_id</th>\n",
       "      <th>item_cnt_month</th>\n",
       "      <th>ID</th>\n",
       "      <th>city_code</th>\n",
       "      <th>item_category_id</th>\n",
       "      <th>type_code</th>\n",
       "      <th>subtype_code</th>\n",
       "      <th>month</th>\n",
       "      <th>days</th>\n",
       "    </tr>\n",
       "  </thead>\n",
       "  <tbody>\n",
       "    <tr>\n",
       "      <th>0</th>\n",
       "      <td>0</td>\n",
       "      <td>2</td>\n",
       "      <td>19</td>\n",
       "      <td>0.0</td>\n",
       "      <td>0.0</td>\n",
       "      <td>0</td>\n",
       "      <td>40</td>\n",
       "      <td>11</td>\n",
       "      <td>4</td>\n",
       "      <td>0</td>\n",
       "      <td>31</td>\n",
       "    </tr>\n",
       "    <tr>\n",
       "      <th>1</th>\n",
       "      <td>0</td>\n",
       "      <td>2</td>\n",
       "      <td>27</td>\n",
       "      <td>1.0</td>\n",
       "      <td>0.0</td>\n",
       "      <td>0</td>\n",
       "      <td>19</td>\n",
       "      <td>5</td>\n",
       "      <td>10</td>\n",
       "      <td>0</td>\n",
       "      <td>31</td>\n",
       "    </tr>\n",
       "    <tr>\n",
       "      <th>2</th>\n",
       "      <td>0</td>\n",
       "      <td>2</td>\n",
       "      <td>28</td>\n",
       "      <td>0.0</td>\n",
       "      <td>0.0</td>\n",
       "      <td>0</td>\n",
       "      <td>30</td>\n",
       "      <td>8</td>\n",
       "      <td>55</td>\n",
       "      <td>0</td>\n",
       "      <td>31</td>\n",
       "    </tr>\n",
       "    <tr>\n",
       "      <th>3</th>\n",
       "      <td>0</td>\n",
       "      <td>2</td>\n",
       "      <td>29</td>\n",
       "      <td>0.0</td>\n",
       "      <td>0.0</td>\n",
       "      <td>0</td>\n",
       "      <td>23</td>\n",
       "      <td>5</td>\n",
       "      <td>16</td>\n",
       "      <td>0</td>\n",
       "      <td>31</td>\n",
       "    </tr>\n",
       "    <tr>\n",
       "      <th>4</th>\n",
       "      <td>0</td>\n",
       "      <td>2</td>\n",
       "      <td>32</td>\n",
       "      <td>0.0</td>\n",
       "      <td>0.0</td>\n",
       "      <td>0</td>\n",
       "      <td>40</td>\n",
       "      <td>11</td>\n",
       "      <td>4</td>\n",
       "      <td>0</td>\n",
       "      <td>31</td>\n",
       "    </tr>\n",
       "  </tbody>\n",
       "</table>\n",
       "</div>"
      ],
      "text/plain": [
       "   date_block_num  shop_id  item_id  ...  subtype_code  month  days\n",
       "0               0        2       19  ...             4      0    31\n",
       "1               0        2       27  ...            10      0    31\n",
       "2               0        2       28  ...            55      0    31\n",
       "3               0        2       29  ...            16      0    31\n",
       "4               0        2       32  ...             4      0    31\n",
       "\n",
       "[5 rows x 11 columns]"
      ]
     },
     "execution_count": 34,
     "metadata": {
      "tags": []
     },
     "output_type": "execute_result"
    }
   ],
   "source": [
    "matrix.head()"
   ]
  },
  {
   "cell_type": "markdown",
   "metadata": {},
   "source": [
    "## Getting ready for model training"
   ]
  },
  {
   "cell_type": "code",
   "execution_count": 0,
   "metadata": {
    "colab": {},
    "colab_type": "code",
    "id": "TQKauQgfQ-BN"
   },
   "outputs": [],
   "source": [
    "data = matrix"
   ]
  },
  {
   "cell_type": "markdown",
   "metadata": {},
   "source": [
    "Validation strategy is 34th month for the test set, 33rd month for the validation set and 1-33 months for the train."
   ]
  },
  {
   "cell_type": "code",
   "execution_count": 0,
   "metadata": {
    "colab": {},
    "colab_type": "code",
    "id": "DV-frv1eQ-BQ"
   },
   "outputs": [],
   "source": [
    "X_train = data[data.date_block_num < 33].drop(['item_cnt_month'], axis=1)\n",
    "Y_train = data[data.date_block_num < 33]['item_cnt_month']\n",
    "X_valid = data[data.date_block_num == 33].drop(['item_cnt_month'], axis=1)\n",
    "Y_valid = data[data.date_block_num == 33]['item_cnt_month']\n",
    "X_test = data[data.date_block_num == 34].drop(['item_cnt_month'], axis=1)"
   ]
  },
  {
   "cell_type": "markdown",
   "metadata": {},
   "source": [
    "## Defining model"
   ]
  },
  {
   "cell_type": "code",
   "execution_count": 0,
   "metadata": {
    "colab": {},
    "colab_type": "code",
    "id": "inF19Ep8Q-BT"
   },
   "outputs": [],
   "source": [
    "model = XGBRegressor(\n",
    "    max_depth=8,\n",
    "    n_estimators=1000,\n",
    "    min_child_weight=300, \n",
    "    colsample_bytree=0.8, \n",
    "    subsample=0.8, \n",
    "    eta=0.3,    \n",
    "    seed=42)"
   ]
  },
  {
   "cell_type": "markdown",
   "metadata": {},
   "source": [
    "## Training"
   ]
  },
  {
   "cell_type": "code",
   "execution_count": 38,
   "metadata": {
    "colab": {
     "base_uri": "https://localhost:8080/",
     "height": 1000
    },
    "colab_type": "code",
    "id": "vHFvEpicQ-BY",
    "outputId": "3110a309-c63d-4e06-b82d-3c914591b369"
   },
   "outputs": [
    {
     "name": "stderr",
     "output_type": "stream",
     "text": [
      "/usr/local/lib/python3.6/dist-packages/xgboost/core.py:587: FutureWarning: Series.base is deprecated and will be removed in a future version\n",
      "  if getattr(data, 'base', None) is not None and \\\n",
      "/usr/local/lib/python3.6/dist-packages/xgboost/core.py:588: FutureWarning: Series.base is deprecated and will be removed in a future version\n",
      "  data.base is not None and isinstance(data, np.ndarray) \\\n"
     ]
    },
    {
     "name": "stdout",
     "output_type": "stream",
     "text": [
      "[19:33:44] WARNING: /workspace/src/objective/regression_obj.cu:152: reg:linear is now deprecated in favor of reg:squarederror.\n",
      "[19:33:44] WARNING: /workspace/src/learner.cc:686: Tree method is automatically selected to be 'approx' for faster speed. To use old behavior (exact greedy algorithm on single machine), set tree_method to 'exact'.\n",
      "[0]\tvalidation_0-rmse:1.16767\tvalidation_1-rmse:1.14718\n",
      "Multiple eval metrics have been passed: 'validation_1-rmse' will be used for early stopping.\n",
      "\n",
      "Will train until validation_1-rmse hasn't improved in 10 rounds.\n",
      "[1]\tvalidation_0-rmse:1.16257\tvalidation_1-rmse:1.13545\n",
      "[2]\tvalidation_0-rmse:1.15814\tvalidation_1-rmse:1.12504\n",
      "[3]\tvalidation_0-rmse:1.15408\tvalidation_1-rmse:1.11662\n",
      "[4]\tvalidation_0-rmse:1.14781\tvalidation_1-rmse:1.10851\n",
      "[5]\tvalidation_0-rmse:1.14319\tvalidation_1-rmse:1.10377\n",
      "[6]\tvalidation_0-rmse:1.14146\tvalidation_1-rmse:1.09947\n",
      "[7]\tvalidation_0-rmse:1.13887\tvalidation_1-rmse:1.09419\n",
      "[8]\tvalidation_0-rmse:1.13879\tvalidation_1-rmse:1.0895\n",
      "[9]\tvalidation_0-rmse:1.13586\tvalidation_1-rmse:1.08602\n",
      "[10]\tvalidation_0-rmse:1.13421\tvalidation_1-rmse:1.08207\n",
      "[11]\tvalidation_0-rmse:1.13202\tvalidation_1-rmse:1.07892\n",
      "[12]\tvalidation_0-rmse:1.13085\tvalidation_1-rmse:1.07711\n",
      "[13]\tvalidation_0-rmse:1.12676\tvalidation_1-rmse:1.07027\n",
      "[14]\tvalidation_0-rmse:1.12365\tvalidation_1-rmse:1.06454\n",
      "[15]\tvalidation_0-rmse:1.12276\tvalidation_1-rmse:1.06356\n",
      "[16]\tvalidation_0-rmse:1.12065\tvalidation_1-rmse:1.05966\n",
      "[17]\tvalidation_0-rmse:1.11807\tvalidation_1-rmse:1.05607\n",
      "[18]\tvalidation_0-rmse:1.11783\tvalidation_1-rmse:1.05542\n",
      "[19]\tvalidation_0-rmse:1.11597\tvalidation_1-rmse:1.05268\n",
      "[20]\tvalidation_0-rmse:1.11436\tvalidation_1-rmse:1.05076\n",
      "[21]\tvalidation_0-rmse:1.11402\tvalidation_1-rmse:1.04994\n",
      "[22]\tvalidation_0-rmse:1.11243\tvalidation_1-rmse:1.04789\n",
      "[23]\tvalidation_0-rmse:1.11115\tvalidation_1-rmse:1.0465\n",
      "[24]\tvalidation_0-rmse:1.11022\tvalidation_1-rmse:1.0453\n",
      "[25]\tvalidation_0-rmse:1.10928\tvalidation_1-rmse:1.04477\n",
      "[26]\tvalidation_0-rmse:1.10818\tvalidation_1-rmse:1.04374\n",
      "[27]\tvalidation_0-rmse:1.1076\tvalidation_1-rmse:1.04331\n",
      "[28]\tvalidation_0-rmse:1.10697\tvalidation_1-rmse:1.0428\n",
      "[29]\tvalidation_0-rmse:1.10642\tvalidation_1-rmse:1.04228\n",
      "[30]\tvalidation_0-rmse:1.1055\tvalidation_1-rmse:1.04129\n",
      "[31]\tvalidation_0-rmse:1.10454\tvalidation_1-rmse:1.04049\n",
      "[32]\tvalidation_0-rmse:1.10417\tvalidation_1-rmse:1.03988\n",
      "[33]\tvalidation_0-rmse:1.10377\tvalidation_1-rmse:1.03956\n",
      "[34]\tvalidation_0-rmse:1.10321\tvalidation_1-rmse:1.03837\n",
      "[35]\tvalidation_0-rmse:1.10301\tvalidation_1-rmse:1.03832\n",
      "[36]\tvalidation_0-rmse:1.1027\tvalidation_1-rmse:1.03785\n",
      "[37]\tvalidation_0-rmse:1.10235\tvalidation_1-rmse:1.03691\n",
      "[38]\tvalidation_0-rmse:1.10197\tvalidation_1-rmse:1.03637\n",
      "[39]\tvalidation_0-rmse:1.10172\tvalidation_1-rmse:1.03596\n",
      "[40]\tvalidation_0-rmse:1.10154\tvalidation_1-rmse:1.0356\n",
      "[41]\tvalidation_0-rmse:1.10123\tvalidation_1-rmse:1.03566\n",
      "[42]\tvalidation_0-rmse:1.10096\tvalidation_1-rmse:1.03533\n",
      "[43]\tvalidation_0-rmse:1.10048\tvalidation_1-rmse:1.03476\n",
      "[44]\tvalidation_0-rmse:1.10011\tvalidation_1-rmse:1.03469\n",
      "[45]\tvalidation_0-rmse:1.0999\tvalidation_1-rmse:1.0344\n",
      "[46]\tvalidation_0-rmse:1.09966\tvalidation_1-rmse:1.03436\n",
      "[47]\tvalidation_0-rmse:1.09945\tvalidation_1-rmse:1.03409\n",
      "[48]\tvalidation_0-rmse:1.09892\tvalidation_1-rmse:1.03375\n",
      "[49]\tvalidation_0-rmse:1.09878\tvalidation_1-rmse:1.03353\n",
      "[50]\tvalidation_0-rmse:1.0985\tvalidation_1-rmse:1.03325\n",
      "[51]\tvalidation_0-rmse:1.09808\tvalidation_1-rmse:1.03326\n",
      "[52]\tvalidation_0-rmse:1.09774\tvalidation_1-rmse:1.0325\n",
      "[53]\tvalidation_0-rmse:1.09759\tvalidation_1-rmse:1.03234\n",
      "[54]\tvalidation_0-rmse:1.09728\tvalidation_1-rmse:1.03222\n",
      "[55]\tvalidation_0-rmse:1.09695\tvalidation_1-rmse:1.03182\n",
      "[56]\tvalidation_0-rmse:1.09672\tvalidation_1-rmse:1.03172\n",
      "[57]\tvalidation_0-rmse:1.09623\tvalidation_1-rmse:1.03169\n",
      "[58]\tvalidation_0-rmse:1.09581\tvalidation_1-rmse:1.03155\n",
      "[59]\tvalidation_0-rmse:1.09543\tvalidation_1-rmse:1.031\n",
      "[60]\tvalidation_0-rmse:1.09533\tvalidation_1-rmse:1.03096\n",
      "[61]\tvalidation_0-rmse:1.09517\tvalidation_1-rmse:1.03069\n",
      "[62]\tvalidation_0-rmse:1.09476\tvalidation_1-rmse:1.03006\n",
      "[63]\tvalidation_0-rmse:1.09454\tvalidation_1-rmse:1.02974\n",
      "[64]\tvalidation_0-rmse:1.09437\tvalidation_1-rmse:1.02913\n",
      "[65]\tvalidation_0-rmse:1.09421\tvalidation_1-rmse:1.02902\n",
      "[66]\tvalidation_0-rmse:1.09402\tvalidation_1-rmse:1.02879\n",
      "[67]\tvalidation_0-rmse:1.09385\tvalidation_1-rmse:1.02876\n",
      "[68]\tvalidation_0-rmse:1.09374\tvalidation_1-rmse:1.02862\n",
      "[69]\tvalidation_0-rmse:1.09342\tvalidation_1-rmse:1.02866\n",
      "[70]\tvalidation_0-rmse:1.0931\tvalidation_1-rmse:1.02864\n",
      "[71]\tvalidation_0-rmse:1.09297\tvalidation_1-rmse:1.02797\n",
      "[72]\tvalidation_0-rmse:1.09279\tvalidation_1-rmse:1.02766\n",
      "[73]\tvalidation_0-rmse:1.09248\tvalidation_1-rmse:1.02726\n",
      "[74]\tvalidation_0-rmse:1.09237\tvalidation_1-rmse:1.02722\n",
      "[75]\tvalidation_0-rmse:1.0921\tvalidation_1-rmse:1.02702\n",
      "[76]\tvalidation_0-rmse:1.09199\tvalidation_1-rmse:1.027\n",
      "[77]\tvalidation_0-rmse:1.09185\tvalidation_1-rmse:1.02648\n",
      "[78]\tvalidation_0-rmse:1.09168\tvalidation_1-rmse:1.02625\n",
      "[79]\tvalidation_0-rmse:1.09139\tvalidation_1-rmse:1.02575\n",
      "[80]\tvalidation_0-rmse:1.09116\tvalidation_1-rmse:1.02554\n",
      "[81]\tvalidation_0-rmse:1.09107\tvalidation_1-rmse:1.02554\n",
      "[82]\tvalidation_0-rmse:1.09082\tvalidation_1-rmse:1.02527\n",
      "[83]\tvalidation_0-rmse:1.09065\tvalidation_1-rmse:1.02527\n",
      "[84]\tvalidation_0-rmse:1.09039\tvalidation_1-rmse:1.02509\n",
      "[85]\tvalidation_0-rmse:1.09029\tvalidation_1-rmse:1.02507\n",
      "[86]\tvalidation_0-rmse:1.09004\tvalidation_1-rmse:1.02454\n",
      "[87]\tvalidation_0-rmse:1.08993\tvalidation_1-rmse:1.0241\n",
      "[88]\tvalidation_0-rmse:1.08967\tvalidation_1-rmse:1.02385\n",
      "[89]\tvalidation_0-rmse:1.08926\tvalidation_1-rmse:1.02386\n",
      "[90]\tvalidation_0-rmse:1.08918\tvalidation_1-rmse:1.02381\n",
      "[91]\tvalidation_0-rmse:1.08911\tvalidation_1-rmse:1.02372\n",
      "[92]\tvalidation_0-rmse:1.08898\tvalidation_1-rmse:1.0235\n",
      "[93]\tvalidation_0-rmse:1.08886\tvalidation_1-rmse:1.02345\n",
      "[94]\tvalidation_0-rmse:1.08884\tvalidation_1-rmse:1.02339\n",
      "[95]\tvalidation_0-rmse:1.08877\tvalidation_1-rmse:1.0229\n",
      "[96]\tvalidation_0-rmse:1.08857\tvalidation_1-rmse:1.02264\n",
      "[97]\tvalidation_0-rmse:1.08849\tvalidation_1-rmse:1.02253\n",
      "[98]\tvalidation_0-rmse:1.08817\tvalidation_1-rmse:1.02257\n",
      "[99]\tvalidation_0-rmse:1.08755\tvalidation_1-rmse:1.02189\n",
      "[100]\tvalidation_0-rmse:1.08729\tvalidation_1-rmse:1.02203\n",
      "[101]\tvalidation_0-rmse:1.08716\tvalidation_1-rmse:1.02176\n",
      "[102]\tvalidation_0-rmse:1.08708\tvalidation_1-rmse:1.02172\n",
      "[103]\tvalidation_0-rmse:1.08695\tvalidation_1-rmse:1.02173\n",
      "[104]\tvalidation_0-rmse:1.08668\tvalidation_1-rmse:1.02178\n",
      "[105]\tvalidation_0-rmse:1.08655\tvalidation_1-rmse:1.02158\n",
      "[106]\tvalidation_0-rmse:1.08644\tvalidation_1-rmse:1.02151\n",
      "[107]\tvalidation_0-rmse:1.08631\tvalidation_1-rmse:1.02137\n",
      "[108]\tvalidation_0-rmse:1.08613\tvalidation_1-rmse:1.02104\n",
      "[109]\tvalidation_0-rmse:1.08579\tvalidation_1-rmse:1.02014\n",
      "[110]\tvalidation_0-rmse:1.0857\tvalidation_1-rmse:1.02004\n",
      "[111]\tvalidation_0-rmse:1.08552\tvalidation_1-rmse:1.02014\n",
      "[112]\tvalidation_0-rmse:1.08536\tvalidation_1-rmse:1.0198\n",
      "[113]\tvalidation_0-rmse:1.08511\tvalidation_1-rmse:1.01974\n",
      "[114]\tvalidation_0-rmse:1.08497\tvalidation_1-rmse:1.01982\n",
      "[115]\tvalidation_0-rmse:1.08493\tvalidation_1-rmse:1.01981\n",
      "[116]\tvalidation_0-rmse:1.08472\tvalidation_1-rmse:1.01956\n",
      "[117]\tvalidation_0-rmse:1.08454\tvalidation_1-rmse:1.01946\n",
      "[118]\tvalidation_0-rmse:1.08447\tvalidation_1-rmse:1.01944\n",
      "[119]\tvalidation_0-rmse:1.08432\tvalidation_1-rmse:1.01947\n",
      "[120]\tvalidation_0-rmse:1.08415\tvalidation_1-rmse:1.01967\n",
      "[121]\tvalidation_0-rmse:1.0841\tvalidation_1-rmse:1.01968\n",
      "[122]\tvalidation_0-rmse:1.08397\tvalidation_1-rmse:1.01949\n",
      "[123]\tvalidation_0-rmse:1.08392\tvalidation_1-rmse:1.01942\n",
      "[124]\tvalidation_0-rmse:1.08381\tvalidation_1-rmse:1.01931\n",
      "[125]\tvalidation_0-rmse:1.08378\tvalidation_1-rmse:1.01931\n",
      "[126]\tvalidation_0-rmse:1.08358\tvalidation_1-rmse:1.01798\n",
      "[127]\tvalidation_0-rmse:1.08353\tvalidation_1-rmse:1.01794\n",
      "[128]\tvalidation_0-rmse:1.0834\tvalidation_1-rmse:1.01783\n",
      "[129]\tvalidation_0-rmse:1.08327\tvalidation_1-rmse:1.01766\n",
      "[130]\tvalidation_0-rmse:1.08321\tvalidation_1-rmse:1.01766\n",
      "[131]\tvalidation_0-rmse:1.08289\tvalidation_1-rmse:1.01774\n",
      "[132]\tvalidation_0-rmse:1.08276\tvalidation_1-rmse:1.01762\n",
      "[133]\tvalidation_0-rmse:1.08263\tvalidation_1-rmse:1.01756\n",
      "[134]\tvalidation_0-rmse:1.08255\tvalidation_1-rmse:1.01754\n",
      "[135]\tvalidation_0-rmse:1.08252\tvalidation_1-rmse:1.01758\n",
      "[136]\tvalidation_0-rmse:1.08248\tvalidation_1-rmse:1.0175\n",
      "[137]\tvalidation_0-rmse:1.08242\tvalidation_1-rmse:1.0174\n",
      "[138]\tvalidation_0-rmse:1.08231\tvalidation_1-rmse:1.01749\n",
      "[139]\tvalidation_0-rmse:1.08224\tvalidation_1-rmse:1.01745\n",
      "[140]\tvalidation_0-rmse:1.08212\tvalidation_1-rmse:1.01735\n",
      "[141]\tvalidation_0-rmse:1.08195\tvalidation_1-rmse:1.01708\n",
      "[142]\tvalidation_0-rmse:1.08187\tvalidation_1-rmse:1.01704\n",
      "[143]\tvalidation_0-rmse:1.08149\tvalidation_1-rmse:1.01703\n",
      "[144]\tvalidation_0-rmse:1.08122\tvalidation_1-rmse:1.01652\n",
      "[145]\tvalidation_0-rmse:1.08106\tvalidation_1-rmse:1.01623\n",
      "[146]\tvalidation_0-rmse:1.08101\tvalidation_1-rmse:1.01619\n",
      "[147]\tvalidation_0-rmse:1.08076\tvalidation_1-rmse:1.01603\n",
      "[148]\tvalidation_0-rmse:1.08068\tvalidation_1-rmse:1.01598\n",
      "[149]\tvalidation_0-rmse:1.08055\tvalidation_1-rmse:1.01585\n",
      "[150]\tvalidation_0-rmse:1.08048\tvalidation_1-rmse:1.01578\n",
      "[151]\tvalidation_0-rmse:1.08045\tvalidation_1-rmse:1.0157\n",
      "[152]\tvalidation_0-rmse:1.08037\tvalidation_1-rmse:1.01565\n",
      "[153]\tvalidation_0-rmse:1.08031\tvalidation_1-rmse:1.01561\n",
      "[154]\tvalidation_0-rmse:1.08028\tvalidation_1-rmse:1.01546\n",
      "[155]\tvalidation_0-rmse:1.08025\tvalidation_1-rmse:1.01543\n",
      "[156]\tvalidation_0-rmse:1.08018\tvalidation_1-rmse:1.01538\n",
      "[157]\tvalidation_0-rmse:1.07993\tvalidation_1-rmse:1.01459\n",
      "[158]\tvalidation_0-rmse:1.07988\tvalidation_1-rmse:1.01455\n",
      "[159]\tvalidation_0-rmse:1.07967\tvalidation_1-rmse:1.01434\n",
      "[160]\tvalidation_0-rmse:1.07954\tvalidation_1-rmse:1.01372\n",
      "[161]\tvalidation_0-rmse:1.07934\tvalidation_1-rmse:1.01367\n",
      "[162]\tvalidation_0-rmse:1.07929\tvalidation_1-rmse:1.01357\n",
      "[163]\tvalidation_0-rmse:1.07922\tvalidation_1-rmse:1.01359\n",
      "[164]\tvalidation_0-rmse:1.07915\tvalidation_1-rmse:1.01305\n",
      "[165]\tvalidation_0-rmse:1.07869\tvalidation_1-rmse:1.0129\n",
      "[166]\tvalidation_0-rmse:1.07842\tvalidation_1-rmse:1.01293\n",
      "[167]\tvalidation_0-rmse:1.07828\tvalidation_1-rmse:1.01297\n",
      "[168]\tvalidation_0-rmse:1.07823\tvalidation_1-rmse:1.01281\n",
      "[169]\tvalidation_0-rmse:1.07808\tvalidation_1-rmse:1.01236\n",
      "[170]\tvalidation_0-rmse:1.07801\tvalidation_1-rmse:1.01234\n",
      "[171]\tvalidation_0-rmse:1.07793\tvalidation_1-rmse:1.01226\n",
      "[172]\tvalidation_0-rmse:1.0778\tvalidation_1-rmse:1.01229\n",
      "[173]\tvalidation_0-rmse:1.07776\tvalidation_1-rmse:1.01226\n",
      "[174]\tvalidation_0-rmse:1.07769\tvalidation_1-rmse:1.01223\n",
      "[175]\tvalidation_0-rmse:1.07766\tvalidation_1-rmse:1.01218\n",
      "[176]\tvalidation_0-rmse:1.0776\tvalidation_1-rmse:1.01213\n",
      "[177]\tvalidation_0-rmse:1.0775\tvalidation_1-rmse:1.01215\n",
      "[178]\tvalidation_0-rmse:1.07745\tvalidation_1-rmse:1.01214\n",
      "[179]\tvalidation_0-rmse:1.07728\tvalidation_1-rmse:1.01206\n",
      "[180]\tvalidation_0-rmse:1.07725\tvalidation_1-rmse:1.01186\n",
      "[181]\tvalidation_0-rmse:1.07721\tvalidation_1-rmse:1.01176\n",
      "[182]\tvalidation_0-rmse:1.077\tvalidation_1-rmse:1.01163\n",
      "[183]\tvalidation_0-rmse:1.07694\tvalidation_1-rmse:1.01161\n",
      "[184]\tvalidation_0-rmse:1.07687\tvalidation_1-rmse:1.01162\n",
      "[185]\tvalidation_0-rmse:1.07678\tvalidation_1-rmse:1.01136\n",
      "[186]\tvalidation_0-rmse:1.07662\tvalidation_1-rmse:1.01139\n",
      "[187]\tvalidation_0-rmse:1.07651\tvalidation_1-rmse:1.01134\n",
      "[188]\tvalidation_0-rmse:1.07646\tvalidation_1-rmse:1.01131\n",
      "[189]\tvalidation_0-rmse:1.0764\tvalidation_1-rmse:1.01126\n",
      "[190]\tvalidation_0-rmse:1.07636\tvalidation_1-rmse:1.01126\n",
      "[191]\tvalidation_0-rmse:1.0763\tvalidation_1-rmse:1.01091\n",
      "[192]\tvalidation_0-rmse:1.07627\tvalidation_1-rmse:1.01087\n",
      "[193]\tvalidation_0-rmse:1.07623\tvalidation_1-rmse:1.01088\n",
      "[194]\tvalidation_0-rmse:1.07619\tvalidation_1-rmse:1.01084\n",
      "[195]\tvalidation_0-rmse:1.07607\tvalidation_1-rmse:1.01087\n",
      "[196]\tvalidation_0-rmse:1.07601\tvalidation_1-rmse:1.01092\n",
      "[197]\tvalidation_0-rmse:1.07598\tvalidation_1-rmse:1.01092\n",
      "[198]\tvalidation_0-rmse:1.07588\tvalidation_1-rmse:1.01101\n",
      "[199]\tvalidation_0-rmse:1.07571\tvalidation_1-rmse:1.0103\n",
      "[200]\tvalidation_0-rmse:1.0756\tvalidation_1-rmse:1.01022\n",
      "[201]\tvalidation_0-rmse:1.07551\tvalidation_1-rmse:1.01017\n",
      "[202]\tvalidation_0-rmse:1.07542\tvalidation_1-rmse:1.01008\n",
      "[203]\tvalidation_0-rmse:1.07527\tvalidation_1-rmse:1.01002\n",
      "[204]\tvalidation_0-rmse:1.07525\tvalidation_1-rmse:1.01\n",
      "[205]\tvalidation_0-rmse:1.07514\tvalidation_1-rmse:1.00992\n",
      "[206]\tvalidation_0-rmse:1.07495\tvalidation_1-rmse:1.00993\n",
      "[207]\tvalidation_0-rmse:1.07474\tvalidation_1-rmse:1.00987\n",
      "[208]\tvalidation_0-rmse:1.07466\tvalidation_1-rmse:1.00973\n",
      "[209]\tvalidation_0-rmse:1.07463\tvalidation_1-rmse:1.00975\n",
      "[210]\tvalidation_0-rmse:1.07451\tvalidation_1-rmse:1.00969\n",
      "[211]\tvalidation_0-rmse:1.07446\tvalidation_1-rmse:1.00965\n",
      "[212]\tvalidation_0-rmse:1.07441\tvalidation_1-rmse:1.0096\n",
      "[213]\tvalidation_0-rmse:1.07435\tvalidation_1-rmse:1.00956\n",
      "[214]\tvalidation_0-rmse:1.07422\tvalidation_1-rmse:1.0094\n",
      "[215]\tvalidation_0-rmse:1.07413\tvalidation_1-rmse:1.00938\n",
      "[216]\tvalidation_0-rmse:1.07399\tvalidation_1-rmse:1.00943\n",
      "[217]\tvalidation_0-rmse:1.07395\tvalidation_1-rmse:1.00944\n",
      "[218]\tvalidation_0-rmse:1.07392\tvalidation_1-rmse:1.00943\n",
      "[219]\tvalidation_0-rmse:1.07378\tvalidation_1-rmse:1.00943\n",
      "[220]\tvalidation_0-rmse:1.07353\tvalidation_1-rmse:1.00937\n",
      "[221]\tvalidation_0-rmse:1.07344\tvalidation_1-rmse:1.00934\n",
      "[222]\tvalidation_0-rmse:1.07341\tvalidation_1-rmse:1.0093\n",
      "[223]\tvalidation_0-rmse:1.07335\tvalidation_1-rmse:1.00933\n",
      "[224]\tvalidation_0-rmse:1.07331\tvalidation_1-rmse:1.00928\n",
      "[225]\tvalidation_0-rmse:1.07326\tvalidation_1-rmse:1.0093\n",
      "[226]\tvalidation_0-rmse:1.07314\tvalidation_1-rmse:1.00951\n",
      "[227]\tvalidation_0-rmse:1.07306\tvalidation_1-rmse:1.00949\n",
      "[228]\tvalidation_0-rmse:1.07304\tvalidation_1-rmse:1.00947\n",
      "[229]\tvalidation_0-rmse:1.07295\tvalidation_1-rmse:1.00931\n",
      "[230]\tvalidation_0-rmse:1.07286\tvalidation_1-rmse:1.00931\n",
      "[231]\tvalidation_0-rmse:1.07276\tvalidation_1-rmse:1.00917\n",
      "[232]\tvalidation_0-rmse:1.07269\tvalidation_1-rmse:1.00914\n",
      "[233]\tvalidation_0-rmse:1.07264\tvalidation_1-rmse:1.00916\n",
      "[234]\tvalidation_0-rmse:1.0726\tvalidation_1-rmse:1.00914\n",
      "[235]\tvalidation_0-rmse:1.07255\tvalidation_1-rmse:1.00902\n",
      "[236]\tvalidation_0-rmse:1.07244\tvalidation_1-rmse:1.009\n",
      "[237]\tvalidation_0-rmse:1.07242\tvalidation_1-rmse:1.00898\n",
      "[238]\tvalidation_0-rmse:1.07238\tvalidation_1-rmse:1.00853\n",
      "[239]\tvalidation_0-rmse:1.07211\tvalidation_1-rmse:1.0083\n",
      "[240]\tvalidation_0-rmse:1.07208\tvalidation_1-rmse:1.0082\n",
      "[241]\tvalidation_0-rmse:1.07199\tvalidation_1-rmse:1.00814\n",
      "[242]\tvalidation_0-rmse:1.07192\tvalidation_1-rmse:1.00803\n",
      "[243]\tvalidation_0-rmse:1.0719\tvalidation_1-rmse:1.00798\n",
      "[244]\tvalidation_0-rmse:1.07186\tvalidation_1-rmse:1.00799\n",
      "[245]\tvalidation_0-rmse:1.07176\tvalidation_1-rmse:1.00791\n",
      "[246]\tvalidation_0-rmse:1.07167\tvalidation_1-rmse:1.00793\n",
      "[247]\tvalidation_0-rmse:1.07163\tvalidation_1-rmse:1.0079\n",
      "[248]\tvalidation_0-rmse:1.07154\tvalidation_1-rmse:1.00781\n",
      "[249]\tvalidation_0-rmse:1.07149\tvalidation_1-rmse:1.00792\n",
      "[250]\tvalidation_0-rmse:1.07148\tvalidation_1-rmse:1.00791\n",
      "[251]\tvalidation_0-rmse:1.07143\tvalidation_1-rmse:1.00788\n",
      "[252]\tvalidation_0-rmse:1.0714\tvalidation_1-rmse:1.00787\n",
      "[253]\tvalidation_0-rmse:1.07132\tvalidation_1-rmse:1.00789\n",
      "[254]\tvalidation_0-rmse:1.07127\tvalidation_1-rmse:1.00785\n",
      "[255]\tvalidation_0-rmse:1.07125\tvalidation_1-rmse:1.00781\n",
      "[256]\tvalidation_0-rmse:1.07123\tvalidation_1-rmse:1.00781\n",
      "[257]\tvalidation_0-rmse:1.07118\tvalidation_1-rmse:1.00768\n",
      "[258]\tvalidation_0-rmse:1.07116\tvalidation_1-rmse:1.00768\n",
      "[259]\tvalidation_0-rmse:1.07104\tvalidation_1-rmse:1.00759\n",
      "[260]\tvalidation_0-rmse:1.071\tvalidation_1-rmse:1.00758\n",
      "[261]\tvalidation_0-rmse:1.07092\tvalidation_1-rmse:1.00755\n",
      "[262]\tvalidation_0-rmse:1.07081\tvalidation_1-rmse:1.00757\n",
      "[263]\tvalidation_0-rmse:1.07069\tvalidation_1-rmse:1.00752\n",
      "[264]\tvalidation_0-rmse:1.07063\tvalidation_1-rmse:1.00739\n",
      "[265]\tvalidation_0-rmse:1.07059\tvalidation_1-rmse:1.00741\n",
      "[266]\tvalidation_0-rmse:1.0705\tvalidation_1-rmse:1.00738\n",
      "[267]\tvalidation_0-rmse:1.07047\tvalidation_1-rmse:1.00736\n",
      "[268]\tvalidation_0-rmse:1.07044\tvalidation_1-rmse:1.00726\n",
      "[269]\tvalidation_0-rmse:1.07036\tvalidation_1-rmse:1.00715\n",
      "[270]\tvalidation_0-rmse:1.07023\tvalidation_1-rmse:1.00692\n",
      "[271]\tvalidation_0-rmse:1.07021\tvalidation_1-rmse:1.00693\n",
      "[272]\tvalidation_0-rmse:1.0701\tvalidation_1-rmse:1.00684\n",
      "[273]\tvalidation_0-rmse:1.07007\tvalidation_1-rmse:1.00683\n",
      "[274]\tvalidation_0-rmse:1.07003\tvalidation_1-rmse:1.00687\n",
      "[275]\tvalidation_0-rmse:1.07002\tvalidation_1-rmse:1.00688\n",
      "[276]\tvalidation_0-rmse:1.06991\tvalidation_1-rmse:1.00686\n",
      "[277]\tvalidation_0-rmse:1.06986\tvalidation_1-rmse:1.00685\n",
      "[278]\tvalidation_0-rmse:1.06976\tvalidation_1-rmse:1.00677\n",
      "[279]\tvalidation_0-rmse:1.06971\tvalidation_1-rmse:1.00673\n",
      "[280]\tvalidation_0-rmse:1.06965\tvalidation_1-rmse:1.00658\n",
      "[281]\tvalidation_0-rmse:1.06963\tvalidation_1-rmse:1.00656\n",
      "[282]\tvalidation_0-rmse:1.06959\tvalidation_1-rmse:1.00655\n",
      "[283]\tvalidation_0-rmse:1.06949\tvalidation_1-rmse:1.00647\n",
      "[284]\tvalidation_0-rmse:1.06947\tvalidation_1-rmse:1.00641\n",
      "[285]\tvalidation_0-rmse:1.06945\tvalidation_1-rmse:1.00637\n",
      "[286]\tvalidation_0-rmse:1.06941\tvalidation_1-rmse:1.00635\n",
      "[287]\tvalidation_0-rmse:1.06936\tvalidation_1-rmse:1.00629\n",
      "[288]\tvalidation_0-rmse:1.06932\tvalidation_1-rmse:1.00625\n",
      "[289]\tvalidation_0-rmse:1.06921\tvalidation_1-rmse:1.00604\n",
      "[290]\tvalidation_0-rmse:1.06914\tvalidation_1-rmse:1.00604\n",
      "[291]\tvalidation_0-rmse:1.06905\tvalidation_1-rmse:1.00605\n",
      "[292]\tvalidation_0-rmse:1.06899\tvalidation_1-rmse:1.0057\n",
      "[293]\tvalidation_0-rmse:1.06898\tvalidation_1-rmse:1.00569\n",
      "[294]\tvalidation_0-rmse:1.06896\tvalidation_1-rmse:1.00569\n",
      "[295]\tvalidation_0-rmse:1.0689\tvalidation_1-rmse:1.00565\n",
      "[296]\tvalidation_0-rmse:1.06886\tvalidation_1-rmse:1.00564\n",
      "[297]\tvalidation_0-rmse:1.06874\tvalidation_1-rmse:1.00551\n",
      "[298]\tvalidation_0-rmse:1.06872\tvalidation_1-rmse:1.00551\n",
      "[299]\tvalidation_0-rmse:1.06866\tvalidation_1-rmse:1.00556\n",
      "[300]\tvalidation_0-rmse:1.06862\tvalidation_1-rmse:1.00558\n",
      "[301]\tvalidation_0-rmse:1.06853\tvalidation_1-rmse:1.00556\n",
      "[302]\tvalidation_0-rmse:1.06849\tvalidation_1-rmse:1.00554\n",
      "[303]\tvalidation_0-rmse:1.06841\tvalidation_1-rmse:1.00544\n",
      "[304]\tvalidation_0-rmse:1.06837\tvalidation_1-rmse:1.00545\n",
      "[305]\tvalidation_0-rmse:1.06831\tvalidation_1-rmse:1.00543\n",
      "[306]\tvalidation_0-rmse:1.06824\tvalidation_1-rmse:1.00538\n",
      "[307]\tvalidation_0-rmse:1.06823\tvalidation_1-rmse:1.00537\n",
      "[308]\tvalidation_0-rmse:1.06821\tvalidation_1-rmse:1.00533\n",
      "[309]\tvalidation_0-rmse:1.06817\tvalidation_1-rmse:1.00539\n",
      "[310]\tvalidation_0-rmse:1.06809\tvalidation_1-rmse:1.00564\n",
      "[311]\tvalidation_0-rmse:1.06801\tvalidation_1-rmse:1.00562\n",
      "[312]\tvalidation_0-rmse:1.06799\tvalidation_1-rmse:1.0056\n",
      "[313]\tvalidation_0-rmse:1.06789\tvalidation_1-rmse:1.00547\n",
      "[314]\tvalidation_0-rmse:1.0678\tvalidation_1-rmse:1.00546\n",
      "[315]\tvalidation_0-rmse:1.06777\tvalidation_1-rmse:1.00544\n",
      "[316]\tvalidation_0-rmse:1.06772\tvalidation_1-rmse:1.00536\n",
      "[317]\tvalidation_0-rmse:1.06761\tvalidation_1-rmse:1.00524\n",
      "[318]\tvalidation_0-rmse:1.06758\tvalidation_1-rmse:1.00521\n",
      "[319]\tvalidation_0-rmse:1.06754\tvalidation_1-rmse:1.00519\n",
      "[320]\tvalidation_0-rmse:1.06747\tvalidation_1-rmse:1.00542\n",
      "[321]\tvalidation_0-rmse:1.06744\tvalidation_1-rmse:1.00544\n",
      "[322]\tvalidation_0-rmse:1.06741\tvalidation_1-rmse:1.00552\n",
      "[323]\tvalidation_0-rmse:1.06734\tvalidation_1-rmse:1.00545\n",
      "[324]\tvalidation_0-rmse:1.06728\tvalidation_1-rmse:1.0054\n",
      "[325]\tvalidation_0-rmse:1.06724\tvalidation_1-rmse:1.00535\n",
      "[326]\tvalidation_0-rmse:1.0672\tvalidation_1-rmse:1.00529\n",
      "[327]\tvalidation_0-rmse:1.06715\tvalidation_1-rmse:1.0052\n",
      "[328]\tvalidation_0-rmse:1.06709\tvalidation_1-rmse:1.00515\n",
      "[329]\tvalidation_0-rmse:1.06704\tvalidation_1-rmse:1.00512\n",
      "[330]\tvalidation_0-rmse:1.067\tvalidation_1-rmse:1.0051\n",
      "[331]\tvalidation_0-rmse:1.0669\tvalidation_1-rmse:1.00494\n",
      "[332]\tvalidation_0-rmse:1.06688\tvalidation_1-rmse:1.00495\n",
      "[333]\tvalidation_0-rmse:1.06686\tvalidation_1-rmse:1.00494\n",
      "[334]\tvalidation_0-rmse:1.06683\tvalidation_1-rmse:1.00503\n",
      "[335]\tvalidation_0-rmse:1.06678\tvalidation_1-rmse:1.00496\n",
      "[336]\tvalidation_0-rmse:1.06672\tvalidation_1-rmse:1.0049\n",
      "[337]\tvalidation_0-rmse:1.06662\tvalidation_1-rmse:1.00491\n",
      "[338]\tvalidation_0-rmse:1.06652\tvalidation_1-rmse:1.00469\n",
      "[339]\tvalidation_0-rmse:1.06645\tvalidation_1-rmse:1.00467\n",
      "[340]\tvalidation_0-rmse:1.06642\tvalidation_1-rmse:1.00464\n",
      "[341]\tvalidation_0-rmse:1.0664\tvalidation_1-rmse:1.00462\n",
      "[342]\tvalidation_0-rmse:1.06633\tvalidation_1-rmse:1.00468\n",
      "[343]\tvalidation_0-rmse:1.06631\tvalidation_1-rmse:1.00463\n",
      "[344]\tvalidation_0-rmse:1.06627\tvalidation_1-rmse:1.00464\n",
      "[345]\tvalidation_0-rmse:1.06627\tvalidation_1-rmse:1.00464\n",
      "[346]\tvalidation_0-rmse:1.06624\tvalidation_1-rmse:1.00463\n",
      "[347]\tvalidation_0-rmse:1.06621\tvalidation_1-rmse:1.00466\n",
      "[348]\tvalidation_0-rmse:1.06618\tvalidation_1-rmse:1.00473\n",
      "[349]\tvalidation_0-rmse:1.06617\tvalidation_1-rmse:1.00471\n",
      "[350]\tvalidation_0-rmse:1.06615\tvalidation_1-rmse:1.00467\n",
      "[351]\tvalidation_0-rmse:1.06607\tvalidation_1-rmse:1.00465\n",
      "Stopping. Best iteration:\n",
      "[341]\tvalidation_0-rmse:1.0664\tvalidation_1-rmse:1.00462\n",
      "\n"
     ]
    },
    {
     "data": {
      "text/plain": [
       "XGBRegressor(base_score=0.5, booster='gbtree', colsample_bylevel=1,\n",
       "             colsample_bynode=1, colsample_bytree=0.8, eta=0.3, gamma=0,\n",
       "             importance_type='gain', learning_rate=0.1, max_delta_step=0,\n",
       "             max_depth=8, min_child_weight=300, missing=None, n_estimators=1000,\n",
       "             n_jobs=1, nthread=None, objective='reg:linear', random_state=0,\n",
       "             reg_alpha=0, reg_lambda=1, scale_pos_weight=1, seed=42,\n",
       "             silent=None, subsample=0.8, verbosity=1)"
      ]
     },
     "execution_count": 38,
     "metadata": {
      "tags": []
     },
     "output_type": "execute_result"
    }
   ],
   "source": [
    "model.fit(\n",
    "    X_train, \n",
    "    Y_train, \n",
    "    eval_metric=\"rmse\", \n",
    "    eval_set=[(X_train, Y_train), (X_valid, Y_valid)], \n",
    "    verbose=True, \n",
    "    early_stopping_rounds = 10)\n"
   ]
  },
  {
   "cell_type": "markdown",
   "metadata": {},
   "source": [
    "## Predictions and submission"
   ]
  },
  {
   "cell_type": "code",
   "execution_count": 0,
   "metadata": {
    "colab": {},
    "colab_type": "code",
    "id": "ED2W2yhFQ-Bb"
   },
   "outputs": [],
   "source": [
    "Y_test = model.predict(X_test).clip(0, 20)"
   ]
  },
  {
   "cell_type": "code",
   "execution_count": 0,
   "metadata": {
    "colab": {},
    "colab_type": "code",
    "id": "mf3oYiDD5eM0"
   },
   "outputs": [],
   "source": [
    "submission = pd.DataFrame({\n",
    "    \"ID\": test.index, \n",
    "    \"item_cnt_month\": Y_test\n",
    "})"
   ]
  },
  {
   "cell_type": "code",
   "execution_count": 0,
   "metadata": {
    "colab": {},
    "colab_type": "code",
    "id": "Zwj1XnO15k7S"
   },
   "outputs": [],
   "source": [
    "submission.to_csv('/content/drive/My Drive/midas/competitive-data-science-predict-future-sales/submission3.csv', index=False)"
   ]
  },
  {
   "cell_type": "code",
   "execution_count": 42,
   "metadata": {
    "colab": {
     "base_uri": "https://localhost:8080/",
     "height": 424
    },
    "colab_type": "code",
    "id": "B-gJF1Ra5uX8",
    "outputId": "eb2115f2-d2c0-4e4a-c4d2-3bea4e50c631"
   },
   "outputs": [
    {
     "data": {
      "text/html": [
       "<div>\n",
       "<style scoped>\n",
       "    .dataframe tbody tr th:only-of-type {\n",
       "        vertical-align: middle;\n",
       "    }\n",
       "\n",
       "    .dataframe tbody tr th {\n",
       "        vertical-align: top;\n",
       "    }\n",
       "\n",
       "    .dataframe thead th {\n",
       "        text-align: right;\n",
       "    }\n",
       "</style>\n",
       "<table border=\"1\" class=\"dataframe\">\n",
       "  <thead>\n",
       "    <tr style=\"text-align: right;\">\n",
       "      <th></th>\n",
       "      <th>ID</th>\n",
       "      <th>item_cnt_month</th>\n",
       "    </tr>\n",
       "  </thead>\n",
       "  <tbody>\n",
       "    <tr>\n",
       "      <th>0</th>\n",
       "      <td>0</td>\n",
       "      <td>0.436563</td>\n",
       "    </tr>\n",
       "    <tr>\n",
       "      <th>1</th>\n",
       "      <td>1</td>\n",
       "      <td>0.352290</td>\n",
       "    </tr>\n",
       "    <tr>\n",
       "      <th>2</th>\n",
       "      <td>2</td>\n",
       "      <td>0.159247</td>\n",
       "    </tr>\n",
       "    <tr>\n",
       "      <th>3</th>\n",
       "      <td>3</td>\n",
       "      <td>0.143570</td>\n",
       "    </tr>\n",
       "    <tr>\n",
       "      <th>4</th>\n",
       "      <td>4</td>\n",
       "      <td>0.141076</td>\n",
       "    </tr>\n",
       "    <tr>\n",
       "      <th>...</th>\n",
       "      <td>...</td>\n",
       "      <td>...</td>\n",
       "    </tr>\n",
       "    <tr>\n",
       "      <th>214195</th>\n",
       "      <td>214195</td>\n",
       "      <td>0.112115</td>\n",
       "    </tr>\n",
       "    <tr>\n",
       "      <th>214196</th>\n",
       "      <td>214196</td>\n",
       "      <td>0.078722</td>\n",
       "    </tr>\n",
       "    <tr>\n",
       "      <th>214197</th>\n",
       "      <td>214197</td>\n",
       "      <td>0.119150</td>\n",
       "    </tr>\n",
       "    <tr>\n",
       "      <th>214198</th>\n",
       "      <td>214198</td>\n",
       "      <td>0.094618</td>\n",
       "    </tr>\n",
       "    <tr>\n",
       "      <th>214199</th>\n",
       "      <td>214199</td>\n",
       "      <td>0.114222</td>\n",
       "    </tr>\n",
       "  </tbody>\n",
       "</table>\n",
       "<p>214200 rows × 2 columns</p>\n",
       "</div>"
      ],
      "text/plain": [
       "            ID  item_cnt_month\n",
       "0            0        0.436563\n",
       "1            1        0.352290\n",
       "2            2        0.159247\n",
       "3            3        0.143570\n",
       "4            4        0.141076\n",
       "...        ...             ...\n",
       "214195  214195        0.112115\n",
       "214196  214196        0.078722\n",
       "214197  214197        0.119150\n",
       "214198  214198        0.094618\n",
       "214199  214199        0.114222\n",
       "\n",
       "[214200 rows x 2 columns]"
      ]
     },
     "execution_count": 42,
     "metadata": {
      "tags": []
     },
     "output_type": "execute_result"
    }
   ],
   "source": [
    "submission"
   ]
  },
  {
   "cell_type": "code",
   "execution_count": 0,
   "metadata": {
    "colab": {},
    "colab_type": "code",
    "id": "90LsZdEp5xp3"
   },
   "outputs": [],
   "source": []
  }
 ],
 "metadata": {
  "colab": {
   "collapsed_sections": [],
   "name": "future predict sales.ipynb",
   "provenance": []
  },
  "kernelspec": {
   "display_name": "Python 3",
   "language": "python",
   "name": "python3"
  },
  "language_info": {
   "codemirror_mode": {
    "name": "ipython",
    "version": 3
   },
   "file_extension": ".py",
   "mimetype": "text/x-python",
   "name": "python",
   "nbconvert_exporter": "python",
   "pygments_lexer": "ipython3",
   "version": "3.7.3"
  }
 },
 "nbformat": 4,
 "nbformat_minor": 1
}
